{
 "cells": [
  {
   "cell_type": "code",
   "execution_count": 1,
   "id": "226275df-0c9f-45a6-93c4-8554f3e1de48",
   "metadata": {},
   "outputs": [
    {
     "name": "stdout",
     "output_type": "stream",
     "text": [
      "JSON file saved to Adjusted_Generated_answer_bank_with_context_ids.json\n"
     ]
    }
   ],
   "source": [
    "import pandas as pd\n",
    "import json\n",
    "\n",
    "# Load the CSV file\n",
    "csv_path = 'Generated_answer_bank.xlsx - Sheet1.csv'  # Update this to your CSV file path\n",
    "csv_df = pd.read_csv(csv_path)\n",
    "\n",
    "# Load the JSON file\n",
    "json_path = 'Raw_Generated_answer_bank.json'  # Update this to your JSON file path\n",
    "with open(json_path, 'r') as json_file:\n",
    "    json_data = json.load(json_file)\n",
    "\n",
    "# Function to find a matching id from CSV based on question text\n",
    "def find_matching_id(question_text, csv_df):\n",
    "    for _, row in csv_df.iterrows():\n",
    "        if question_text in row['text']:\n",
    "            return row['id']\n",
    "    return None\n",
    "\n",
    "# Adjusted approach based on the clarification\n",
    "structured_contexts = []\n",
    "\n",
    "# Iterate through each question in the JSON data\n",
    "for index, item in enumerate(json_data):\n",
    "    question_text = item[\"question\"]\n",
    "    csv_id = find_matching_id(question_text, csv_df)\n",
    "    \n",
    "    if csv_id is None:\n",
    "        continue\n",
    "    \n",
    "    # Creating structured items for each context\n",
    "    contexts = ['no_context', 'relevant', 'vague', 'irrelevant']\n",
    "    for i, context_type in enumerate(contexts):\n",
    "        # Ensure index is within bounds of the CSV dataframe\n",
    "        if index * len(contexts) + i < len(csv_df):\n",
    "            structured_contexts.append({\n",
    "                \"id\": int(csv_df.iloc[index * len(contexts) + i]['id']),\n",
    "                \"question\": question_text,\n",
    "                \"context_type\": context_type,\n",
    "                \"response\": item.get(context_type, \"\")\n",
    "            })\n",
    "\n",
    "# Save the structured contexts to a new JSON file\n",
    "new_json_path_with_context_ids = 'Adjusted_Generated_answer_bank_with_context_ids.json'\n",
    "with open(new_json_path_with_context_ids, 'w') as file:\n",
    "    json.dump(structured_contexts, file, indent=4)\n",
    "\n",
    "print(f\"JSON file saved to {new_json_path_with_context_ids}\")\n"
   ]
  },
  {
   "cell_type": "code",
   "execution_count": null,
   "id": "7fcc2b6a-a831-4fc9-b931-fa07ab597911",
   "metadata": {},
   "outputs": [],
   "source": []
  }
 ],
 "metadata": {
  "kernelspec": {
   "display_name": "Python 3 (ipykernel)",
   "language": "python",
   "name": "python3"
  },
  "language_info": {
   "codemirror_mode": {
    "name": "ipython",
    "version": 3
   },
   "file_extension": ".py",
   "mimetype": "text/x-python",
   "name": "python",
   "nbconvert_exporter": "python",
   "pygments_lexer": "ipython3",
   "version": "3.10.11"
  }
 },
 "nbformat": 4,
 "nbformat_minor": 5
}
