{
 "cells": [
  {
   "cell_type": "code",
   "execution_count": 1,
   "id": "e2155740-cf43-4cea-a5fd-e3ade1c18b65",
   "metadata": {},
   "outputs": [],
   "source": [
    "import openai\n",
    "import json\n",
    "openai.api_key = \"\""
   ]
  },
  {
   "cell_type": "code",
   "execution_count": 2,
   "id": "1ef3e569-a62d-43e5-b15c-209ee5898b7b",
   "metadata": {},
   "outputs": [
    {
     "name": "stdout",
     "output_type": "stream",
     "text": [
      "Embeddings generated and stored.\n"
     ]
    }
   ],
   "source": [
    "# Load the JSON data\n",
    "with open('final_question_context_response.json', 'r') as file:\n",
    "    data = json.load(file)\n",
    "\n",
    "# Initialize a list to store the results\n",
    "embedding_results = []\n",
    "\n",
    "for item in data:\n",
    "    # Extracting question, context, and response\n",
    "    question = item['question']\n",
    "    context = item['context']\n",
    "    response = item['response']\n",
    "    \n",
    "    # Generate embeddings for each text element\n",
    "    question_embedding = openai.embeddings.create(\n",
    "        model=\"text-embedding-3-large\",\n",
    "        input=question,\n",
    "        encoding_format=\"float\"\n",
    "    )\n",
    "    if item['context_type']!=\"no_context\":\n",
    "        context_embedding = openai.embeddings.create(\n",
    "            model=\"text-embedding-3-large\",\n",
    "            input=context,\n",
    "            encoding_format=\"float\"\n",
    "        )\n",
    "    else:\n",
    "        # Use space as placeholder for no context, the context embedding in this case is meaningless\n",
    "        # Embedding for no context will not be used in analysis\n",
    "        context_embedding = openai.embeddings.create(\n",
    "            model=\"text-embedding-3-large\",\n",
    "            input=\" \",\n",
    "            encoding_format=\"float\"\n",
    "        )\n",
    "    \n",
    "    response_embedding = openai.embeddings.create(\n",
    "        model=\"text-embedding-3-large\",\n",
    "        input=response,\n",
    "        encoding_format=\"float\"\n",
    "    )\n",
    "    \n",
    "    # Store the embeddings with the corresponding id\n",
    "    embedding_results.append({\n",
    "        \"id\": item['id'],\n",
    "        \"question_embedding\": question_embedding.data[0].embedding,\n",
    "        \"context_embedding\": context_embedding.data[0].embedding,\n",
    "        \"response_embedding\": response_embedding.data[0].embedding\n",
    "    })\n",
    "\n",
    "# Optionally, you can save this data back to a JSON file\n",
    "with open('embedding_results.json', 'w') as outfile:\n",
    "    json.dump(embedding_results, outfile)\n",
    "\n",
    "print(\"Embeddings generated and stored.\")\n"
   ]
  },
  {
   "cell_type": "code",
   "execution_count": null,
   "id": "1d553efc-6180-4f2a-b330-289a0fbf1849",
   "metadata": {},
   "outputs": [],
   "source": []
  }
 ],
 "metadata": {
  "kernelspec": {
   "display_name": "Python 3 (ipykernel)",
   "language": "python",
   "name": "python3"
  },
  "language_info": {
   "codemirror_mode": {
    "name": "ipython",
    "version": 3
   },
   "file_extension": ".py",
   "mimetype": "text/x-python",
   "name": "python",
   "nbconvert_exporter": "python",
   "pygments_lexer": "ipython3",
   "version": "3.10.11"
  }
 },
 "nbformat": 4,
 "nbformat_minor": 5
}
