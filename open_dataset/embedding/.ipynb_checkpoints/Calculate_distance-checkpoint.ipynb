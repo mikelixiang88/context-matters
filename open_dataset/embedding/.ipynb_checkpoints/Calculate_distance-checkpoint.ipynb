{
 "cells": [
  {
   "cell_type": "code",
   "execution_count": 2,
   "id": "dd55d2b1-2f6e-4e52-ac96-bf8502243ad0",
   "metadata": {},
   "outputs": [
    {
     "name": "stdout",
     "output_type": "stream",
     "text": [
      "Updated results saved without embeddings.\n"
     ]
    }
   ],
   "source": [
    "import json\n",
    "import numpy as np\n",
    "\n",
    "def load_embeddings(file_path):\n",
    "    \"\"\"Load embeddings from a JSON file.\"\"\"\n",
    "    with open(file_path, 'r') as file:\n",
    "        data = json.load(file)\n",
    "    return data\n",
    "\n",
    "def save_data(data, file_path):\n",
    "    \"\"\"Save the data to a JSON file.\"\"\"\n",
    "    with open(file_path, 'w') as file:\n",
    "        json.dump(data, file, indent=4)\n",
    "\n",
    "def compute_cosine_similarity(vector_a, vector_b):\n",
    "    \"\"\"Compute cosine similarity between two vectors using OpenAI utility.\"\"\"\n",
    "    # Ensure vectors are np.arrays to match expected input format\n",
    "    vector_a = np.array(vector_a).reshape(1, -1)\n",
    "    vector_b = np.array(vector_b).reshape(1, -1)\n",
    "    # Using OpenAI's cosine_similarity utility\n",
    "    similarity = np.dot(vector_a, vector_b.T) / (np.linalg.norm(vector_a) * np.linalg.norm(vector_b))\n",
    "    return similarity.item()\n",
    "\n",
    "def process_embeddings(data):\n",
    "    \"\"\"Process each element to compute cosine similarities.\"\"\"\n",
    "    updated_data = []\n",
    "    for item in data:\n",
    "        question_embedding = item['question_embedding']\n",
    "        context_embedding = item['context_embedding']\n",
    "        response_embedding = item['response_embedding']\n",
    "        \n",
    "        # Compute cosine similarities\n",
    "        question_context_similarity = compute_cosine_similarity(question_embedding, context_embedding)\n",
    "        question_response_similarity = compute_cosine_similarity(question_embedding, response_embedding)\n",
    "        \n",
    "        # Exclude embedding fields in the new item\n",
    "        new_item = {\n",
    "            \"id\": item['id'],\n",
    "            \"question_context_similarity\": question_context_similarity,\n",
    "            \"question_response_similarity\": question_response_similarity\n",
    "        }\n",
    "        updated_data.append(new_item)\n",
    "    return updated_data\n",
    "\n",
    "# Paths\n",
    "embeddings_file_path = 'embedding_results.json'\n",
    "updated_file_path = 'updated_results.json'\n",
    "\n",
    "# Load, process, and save\n",
    "embeddings_data = load_embeddings(embeddings_file_path)\n",
    "updated_data = process_embeddings(embeddings_data)\n",
    "save_data(updated_data, updated_file_path)\n",
    "\n",
    "print(\"Updated results saved without embeddings.\")\n"
   ]
  },
  {
   "cell_type": "code",
   "execution_count": null,
   "id": "12ed9214-ff55-4e47-bec6-e5857eb8a136",
   "metadata": {},
   "outputs": [],
   "source": []
  }
 ],
 "metadata": {
  "kernelspec": {
   "display_name": "Python 3 (ipykernel)",
   "language": "python",
   "name": "python3"
  },
  "language_info": {
   "codemirror_mode": {
    "name": "ipython",
    "version": 3
   },
   "file_extension": ".py",
   "mimetype": "text/x-python",
   "name": "python",
   "nbconvert_exporter": "python",
   "pygments_lexer": "ipython3",
   "version": "3.10.11"
  }
 },
 "nbformat": 4,
 "nbformat_minor": 5
}
